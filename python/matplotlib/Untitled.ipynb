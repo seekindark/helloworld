{
 "cells": [
  {
   "cell_type": "code",
   "execution_count": 2,
   "metadata": {},
   "outputs": [
    {
     "data": {
      "text/plain": [
       "array([ 68.03,  68.83,  93.53,  70.67,  87.7 ,  91.04,  68.42,  69.92,\n",
       "        96.49,  88.64,  82.91,  88.22,  93.06,  95.42,  81.32,  82.38,\n",
       "        64.71,  61.16,  73.85,  79.17,  91.94,  94.12, 100.  ,  81.33,\n",
       "        80.61])"
      ]
     },
     "execution_count": 2,
     "metadata": {},
     "output_type": "execute_result"
    }
   ],
   "source": [
    "import numpy as np\n",
    "import matplotlib.pyplot as plt\n",
    "\n",
    "y1 = np.array([68.03, 68.83, 93.53, 70.67, 87.70, 91.04, 68.42, 69.92, 96.49, 88.64, 82.91, 88.22, 93.06, 95.42, 81.32, 82.38, 64.71, 61.16, 73.85, 79.17, 91.94, 94.12,100.00, 81.33,80.61])\n",
    "y1"
   ]
  },
  {
   "cell_type": "code",
   "execution_count": 3,
   "metadata": {},
   "outputs": [
    {
     "data": {
      "text/plain": [
       "25"
      ]
     },
     "execution_count": 3,
     "metadata": {},
     "output_type": "execute_result"
    }
   ],
   "source": [
    "len(y1)"
   ]
  }
 ],
 "metadata": {
  "kernelspec": {
   "display_name": "Python 3",
   "language": "python",
   "name": "python3"
  },
  "language_info": {
   "codemirror_mode": {
    "name": "ipython",
    "version": 3
   },
   "file_extension": ".py",
   "mimetype": "text/x-python",
   "name": "python",
   "nbconvert_exporter": "python",
   "pygments_lexer": "ipython3",
   "version": "3.7.7"
  }
 },
 "nbformat": 4,
 "nbformat_minor": 4
}
